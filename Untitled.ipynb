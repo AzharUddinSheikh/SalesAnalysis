{
 "cells": [
  {
   "cell_type": "code",
   "execution_count": 2,
   "metadata": {},
   "outputs": [],
   "source": [
    "import pandas as pd\n",
    "import os \n"
   ]
  },
  {
   "cell_type": "markdown",
   "metadata": {},
   "source": [
    "Reading somefiles which are in different location "
   ]
  },
  {
   "cell_type": "code",
   "execution_count": 32,
   "metadata": {},
   "outputs": [
    {
     "name": "stdout",
     "output_type": "stream",
     "text": [
      "\f",
      "\n"
     ]
    }
   ],
   "source": [
    "df = pd.read_csv('./SalesAnalysis/Sales_Data/Sales_April_2019.csv')\n",
    "# df.head()\n",
    "%clear\n"
   ]
  },
  {
   "cell_type": "markdown",
   "metadata": {},
   "source": [
    "#lets read all files in print it \n"
   ]
  },
  {
   "cell_type": "code",
   "execution_count": 36,
   "metadata": {},
   "outputs": [
    {
     "name": "stdout",
     "output_type": "stream",
     "text": [
      "\f",
      "\n"
     ]
    }
   ],
   "source": [
    "files = [file for file in os.listdir('./SalesAnalysis/Sales_Data')]\n",
    "\n",
    "for file in files:\n",
    "    print(file)\n",
    "    \n",
    "%clear\n"
   ]
  },
  {
   "cell_type": "markdown",
   "metadata": {},
   "source": [
    "Merging all files data into one data frames .just check in google (how to concate dataframes )"
   ]
  },
  {
   "cell_type": "code",
   "execution_count": 34,
   "metadata": {},
   "outputs": [],
   "source": [
    "files = [file for file in os.listdir('./SalesAnalysis/Sales_Data')]\n",
    "\n",
    "all_month_data = pd.DataFrame()\n",
    "\n",
    "for file in files:\n",
    "    df = pd.read_csv('./SalesAnalysis/Sales_Data/'+file)\n",
    "    \n",
    "    all_month_data = pd.concat([all_month_data,df])\n",
    "    \n",
    "#     print(all_month_data)\n",
    "\n",
    "all_month_data.to_csv('all_data.csv',index=False)"
   ]
  },
  {
   "cell_type": "markdown",
   "metadata": {},
   "source": [
    "read in updated data frames"
   ]
  },
  {
   "cell_type": "code",
   "execution_count": 41,
   "metadata": {},
   "outputs": [
    {
     "name": "stdout",
     "output_type": "stream",
     "text": [
      "\f",
      "\n"
     ]
    }
   ],
   "source": [
    "all_data = pd.read_csv('all_data.csv')\n",
    "# all_data.head(50)\n",
    "# all_data.shape\n",
    "%clear"
   ]
  },
  {
   "cell_type": "markdown",
   "metadata": {},
   "source": [
    "\n",
    "# Augment data with additional columns "
   ]
  },
  {
   "cell_type": "markdown",
   "metadata": {},
   "source": [
    "when we are performing to take out month we see to many nan value we have to clean it "
   ]
  },
  {
   "cell_type": "code",
   "execution_count": 45,
   "metadata": {},
   "outputs": [
    {
     "name": "stdout",
     "output_type": "stream",
     "text": [
      "\f",
      "\n"
     ]
    }
   ],
   "source": [
    "# del all_data['Month']\n",
    "# all_data.head(100) # we cant see \n",
    "\n",
    "nan_df = all_data[all_data.isna().any(axis=1)]\n",
    "nan_df.head(50)\n",
    "nan_df.shape\n",
    "%clear"
   ]
  },
  {
   "cell_type": "markdown",
   "metadata": {},
   "source": [
    "clean data #1 find nan values and delete it"
   ]
  },
  {
   "cell_type": "code",
   "execution_count": 61,
   "metadata": {},
   "outputs": [
    {
     "name": "stdout",
     "output_type": "stream",
     "text": [
      "\f",
      "\n"
     ]
    }
   ],
   "source": [
    "all_data = all_data.dropna(how='all')\n",
    "all_data.head()\n",
    "%clear"
   ]
  },
  {
   "cell_type": "markdown",
   "metadata": {},
   "source": [
    "clean data #2 find Or values and delete it "
   ]
  },
  {
   "cell_type": "code",
   "execution_count": 70,
   "metadata": {},
   "outputs": [],
   "source": [
    "all_data = all_data[all_data['Order Date'].str[0:2] !='Or']\n",
    "\n",
    "\n",
    "# temp_df = all_data[all_data['Order Date'].str[0:2]=='Or']\n",
    "# temp_df.tail()\n",
    "# temp_df.shape # or file total of 355 entry "
   ]
  },
  {
   "cell_type": "markdown",
   "metadata": {},
   "source": [
    "#3 Convert column to the correct type"
   ]
  },
  {
   "cell_type": "code",
   "execution_count": 77,
   "metadata": {},
   "outputs": [
    {
     "name": "stdout",
     "output_type": "stream",
     "text": [
      "\f",
      "\n"
     ]
    }
   ],
   "source": [
    "all_data['Quantity Ordered'] = pd.to_numeric(all_data['Quantity Ordered'])  # make int\n",
    "all_data['Price Each'] = pd.to_numeric(all_data['Price Each'])        # make flaot\n",
    "\n",
    "all_data.head()\n"
   ]
  },
  {
   "cell_type": "markdown",
   "metadata": {},
   "source": [
    "add month column (data type is int64 convert it into string) "
   ]
  },
  {
   "cell_type": "code",
   "execution_count": 78,
   "metadata": {},
   "outputs": [],
   "source": [
    "datatype = all_data.dtypes['Order Date']\n",
    "# print(datatype)\n",
    "\n",
    "\n",
    "all_data['Month'] = all_data['Order Date'].str[0:2] \n",
    "#converted and indexed and sliced \n",
    "# all_data.tail() \n",
    "\n",
    "\n",
    "# '''go clean find Or and delete it before converting back to intger'''\n",
    "all_data['Month'] = all_data['Month'].astype('int32')\n",
    "# all_data.head()\n",
    "# ValueError: invalid literal for int() with base 10: 'Or'\n",
    "\n",
    "\n"
   ]
  },
  {
   "cell_type": "markdown",
   "metadata": {},
   "source": [
    "WHAT WAS THE BEST MONTH FOR SALES AND HOW MUCH WAS EARNED THAT MONTH?"
   ]
  },
  {
   "cell_type": "markdown",
   "metadata": {},
   "source": [
    "ADD a sales column \n"
   ]
  },
  {
   "cell_type": "code",
   "execution_count": 90,
   "metadata": {},
   "outputs": [],
   "source": [
    "all_data['Sales'] = all_data['Quantity Ordered'] * all_data['Price Each']\n",
    "\n",
    "# all_data.head()\n",
    "# can't multiply sequence by non-int of type 'str'\n",
    "# go back clean data or change dtype\n",
    "# convert column to the correct type $$\n"
   ]
  },
  {
   "cell_type": "markdown",
   "metadata": {},
   "source": [
    "Adding column for city # use .apply method"
   ]
  },
  {
   "cell_type": "code",
   "execution_count": 99,
   "metadata": {},
   "outputs": [],
   "source": [
    "def get_city(address):\n",
    "    return address.split(',')[1]\n",
    "\n",
    "def get_state(address):\n",
    "    return address.split(',')[2].split(' ')[1]\n",
    "\n",
    "all_data['City'] = all_data['Purchase Address'].apply(lambda x:get_city(x)+\" \"+get_state(x))\n",
    "\n",
    "# all_data['City'] = all_data['Purchase Address'].apply(lambda x:x.split(',')[1])\n",
    "# all_data.head()\n",
    "\n"
   ]
  },
  {
   "cell_type": "code",
   "execution_count": 83,
   "metadata": {},
   "outputs": [
    {
     "name": "stdout",
     "output_type": "stream",
     "text": [
      "\f",
      "\n"
     ]
    }
   ],
   "source": [
    "# groupby \n",
    "all_data.groupby('Month').sum()\n",
    "%clear"
   ]
  },
  {
   "cell_type": "code",
   "execution_count": 89,
   "metadata": {},
   "outputs": [
    {
     "name": "stdout",
     "output_type": "stream",
     "text": [
      "\f",
      "\n"
     ]
    }
   ],
   "source": [
    "import matplotlib.pyplot as plt\n",
    "\n",
    "months = range(1,13)\n",
    "result = all_data.groupby('Month').sum()\n",
    "\n",
    "#we  just need sales data\n",
    "plt.bar(months,result['Sales'])\n",
    "plt.xticks(months)\n",
    "plt.ylabel('Sales in USD ($)')\n",
    "plt.xlabel('Month number')\n",
    "plt.show()\n",
    "%clear"
   ]
  },
  {
   "cell_type": "markdown",
   "metadata": {},
   "source": [
    "WHAT CITY HAD THE HIGHEST NO OF SALES"
   ]
  },
  {
   "cell_type": "code",
   "execution_count": 102,
   "metadata": {},
   "outputs": [],
   "source": [
    "# add city column \n",
    "# groupby \n",
    "result = all_data.groupby('City').sum()\n",
    "# result\n"
   ]
  },
  {
   "cell_type": "code",
   "execution_count": 110,
   "metadata": {},
   "outputs": [
    {
     "name": "stdout",
     "output_type": "stream",
     "text": [
      "\f",
      "\n"
     ]
    }
   ],
   "source": [
    "# city = all_data['City'].unique() # order messed here\n",
    "city = [city for city, df in all_data.groupby('City')]\n",
    "\n",
    "plt.bar(city,result['Sales'])\n",
    "plt.xticks(city, rotation = 'vertical', size = 8)\n",
    "plt.ylabel('Sales in USD ($)')\n",
    "plt.xlabel('City name')\n",
    "plt.show()\n",
    "# graph shows austin have max sales but on dataframes we see san fransico have maximum sales\n",
    "%clear"
   ]
  },
  {
   "cell_type": "markdown",
   "metadata": {},
   "source": [
    "WHAT TIME SHOULD WE DISPLAY ADVERTISEMENT TO MAXI LIKELIHOOD OF CUSTOMERS BUYING PRODUCT"
   ]
  },
  {
   "cell_type": "code",
   "execution_count": 116,
   "metadata": {},
   "outputs": [],
   "source": [
    "# first change order date  to date time format becuase we need to take out hours from time  \n",
    "\n",
    "all_data['Order Date'] = pd.to_datetime(all_data['Order Date'])\n",
    "# all_data.head()\n",
    "\n",
    "# insert new column name it hours \n",
    "\n",
    "all_data['Hour'] = all_data['Order Date'].dt.hour\n",
    "all_data['Minute'] = all_data['Order Date'].dt.minute\n",
    "# all_data.head() \n"
   ]
  },
  {
   "cell_type": "code",
   "execution_count": 125,
   "metadata": {},
   "outputs": [],
   "source": [
    "all_data['Count'] = 1\n",
    "\n",
    "hour = [hour for hour, df in all_data.groupby('Hour')]\n",
    "\n",
    "plt.plot(hour, all_data.groupby(['Hour']).count())\n",
    "plt.xticks(hour)\n",
    "plt.xlabel('Hours')\n",
    "plt.ylabel('No of orders')\n",
    "plt.grid()\n",
    "plt.show()\n",
    "\n",
    "# all_data.groupby(['Hour']).count()"
   ]
  },
  {
   "cell_type": "markdown",
   "metadata": {},
   "source": [
    "WHAT ORDER AREA MOST SOLD TOGETHER"
   ]
  },
  {
   "cell_type": "code",
   "execution_count": 152,
   "metadata": {},
   "outputs": [
    {
     "name": "stdout",
     "output_type": "stream",
     "text": [
      "\f",
      "\n"
     ]
    }
   ],
   "source": [
    "# df = all_data[all_data['Order ID'].duplicated(keep=False)]\n",
    "\n",
    "# x = all_data['Order ID'].duplicated(keep=False) # it ll provided you in boolean only \n",
    "\n",
    "# all_data[x] # it ll provide whole data frame with provided condition\n",
    " \n",
    "\n",
    "\n",
    "# all_data['Order ID'].duplicated() # keep = \"last\" is a default format \n",
    "# x=all_data['Order ID'].duplicated(keep = \"first\") # it ll give you true first duplicate file and false rest over\n"
   ]
  },
  {
   "cell_type": "code",
   "execution_count": 165,
   "metadata": {},
   "outputs": [
    {
     "name": "stderr",
     "output_type": "stream",
     "text": [
      "<ipython-input-165-c2cadb27827f>:3: SettingWithCopyWarning: \n",
      "A value is trying to be set on a copy of a slice from a DataFrame.\n",
      "Try using .loc[row_indexer,col_indexer] = value instead\n",
      "\n",
      "See the caveats in the documentation: https://pandas.pydata.org/pandas-docs/stable/user_guide/indexing.html#returning-a-view-versus-a-copy\n",
      "  df['Grouped'] = df.groupby('Order ID')['Product'].transform(lambda x:','.join(x))\n"
     ]
    },
    {
     "data": {
      "text/html": [
       "<div>\n",
       "<style scoped>\n",
       "    .dataframe tbody tr th:only-of-type {\n",
       "        vertical-align: middle;\n",
       "    }\n",
       "\n",
       "    .dataframe tbody tr th {\n",
       "        vertical-align: top;\n",
       "    }\n",
       "\n",
       "    .dataframe thead th {\n",
       "        text-align: right;\n",
       "    }\n",
       "</style>\n",
       "<table border=\"1\" class=\"dataframe\">\n",
       "  <thead>\n",
       "    <tr style=\"text-align: right;\">\n",
       "      <th></th>\n",
       "      <th>Order ID</th>\n",
       "      <th>Grouped</th>\n",
       "    </tr>\n",
       "  </thead>\n",
       "  <tbody>\n",
       "    <tr>\n",
       "      <th>3</th>\n",
       "      <td>176560</td>\n",
       "      <td>Google Phone,Wired Headphones</td>\n",
       "    </tr>\n",
       "    <tr>\n",
       "      <th>18</th>\n",
       "      <td>176574</td>\n",
       "      <td>Google Phone,USB-C Charging Cable</td>\n",
       "    </tr>\n",
       "    <tr>\n",
       "      <th>30</th>\n",
       "      <td>176585</td>\n",
       "      <td>Bose SoundSport Headphones,Bose SoundSport Hea...</td>\n",
       "    </tr>\n",
       "    <tr>\n",
       "      <th>32</th>\n",
       "      <td>176586</td>\n",
       "      <td>AAA Batteries (4-pack),Google Phone</td>\n",
       "    </tr>\n",
       "    <tr>\n",
       "      <th>119</th>\n",
       "      <td>176672</td>\n",
       "      <td>Lightning Charging Cable,USB-C Charging Cable</td>\n",
       "    </tr>\n",
       "    <tr>\n",
       "      <th>129</th>\n",
       "      <td>176681</td>\n",
       "      <td>Apple Airpods Headphones,ThinkPad Laptop</td>\n",
       "    </tr>\n",
       "    <tr>\n",
       "      <th>138</th>\n",
       "      <td>176689</td>\n",
       "      <td>Bose SoundSport Headphones,AAA Batteries (4-pack)</td>\n",
       "    </tr>\n",
       "    <tr>\n",
       "      <th>189</th>\n",
       "      <td>176739</td>\n",
       "      <td>34in Ultrawide Monitor,Google Phone</td>\n",
       "    </tr>\n",
       "    <tr>\n",
       "      <th>225</th>\n",
       "      <td>176774</td>\n",
       "      <td>Lightning Charging Cable,USB-C Charging Cable</td>\n",
       "    </tr>\n",
       "    <tr>\n",
       "      <th>233</th>\n",
       "      <td>176781</td>\n",
       "      <td>iPhone,Lightning Charging Cable</td>\n",
       "    </tr>\n",
       "    <tr>\n",
       "      <th>250</th>\n",
       "      <td>176797</td>\n",
       "      <td>Google Phone,Bose SoundSport Headphones,Wired ...</td>\n",
       "    </tr>\n",
       "    <tr>\n",
       "      <th>260</th>\n",
       "      <td>176805</td>\n",
       "      <td>Google Phone,USB-C Charging Cable</td>\n",
       "    </tr>\n",
       "    <tr>\n",
       "      <th>264</th>\n",
       "      <td>176808</td>\n",
       "      <td>Google Phone,Wired Headphones</td>\n",
       "    </tr>\n",
       "    <tr>\n",
       "      <th>270</th>\n",
       "      <td>176813</td>\n",
       "      <td>Google Phone,Wired Headphones</td>\n",
       "    </tr>\n",
       "    <tr>\n",
       "      <th>394</th>\n",
       "      <td>176935</td>\n",
       "      <td>AAA Batteries (4-pack),27in FHD Monitor</td>\n",
       "    </tr>\n",
       "    <tr>\n",
       "      <th>435</th>\n",
       "      <td>176975</td>\n",
       "      <td>USB-C Charging Cable,AAA Batteries (4-pack)</td>\n",
       "    </tr>\n",
       "    <tr>\n",
       "      <th>450</th>\n",
       "      <td>176989</td>\n",
       "      <td>Google Phone,USB-C Charging Cable</td>\n",
       "    </tr>\n",
       "    <tr>\n",
       "      <th>455</th>\n",
       "      <td>176993</td>\n",
       "      <td>iPhone,Wired Headphones</td>\n",
       "    </tr>\n",
       "    <tr>\n",
       "      <th>485</th>\n",
       "      <td>177022</td>\n",
       "      <td>iPhone,Wired Headphones</td>\n",
       "    </tr>\n",
       "    <tr>\n",
       "      <th>567</th>\n",
       "      <td>177102</td>\n",
       "      <td>iPhone,27in 4K Gaming Monitor</td>\n",
       "    </tr>\n",
       "    <tr>\n",
       "      <th>581</th>\n",
       "      <td>177115</td>\n",
       "      <td>iPhone,Lightning Charging Cable</td>\n",
       "    </tr>\n",
       "    <tr>\n",
       "      <th>584</th>\n",
       "      <td>177117</td>\n",
       "      <td>ThinkPad Laptop,AAA Batteries (4-pack)</td>\n",
       "    </tr>\n",
       "    <tr>\n",
       "      <th>635</th>\n",
       "      <td>177167</td>\n",
       "      <td>iPhone,Apple Airpods Headphones,AAA Batteries ...</td>\n",
       "    </tr>\n",
       "    <tr>\n",
       "      <th>648</th>\n",
       "      <td>177178</td>\n",
       "      <td>iPhone,Lightning Charging Cable</td>\n",
       "    </tr>\n",
       "    <tr>\n",
       "      <th>652</th>\n",
       "      <td>177181</td>\n",
       "      <td>Wired Headphones,Apple Airpods Headphones</td>\n",
       "    </tr>\n",
       "    <tr>\n",
       "      <th>654</th>\n",
       "      <td>177182</td>\n",
       "      <td>Macbook Pro Laptop,ThinkPad Laptop</td>\n",
       "    </tr>\n",
       "    <tr>\n",
       "      <th>657</th>\n",
       "      <td>177184</td>\n",
       "      <td>AA Batteries (4-pack),Flatscreen TV</td>\n",
       "    </tr>\n",
       "    <tr>\n",
       "      <th>672</th>\n",
       "      <td>177198</td>\n",
       "      <td>Vareebadd Phone,USB-C Charging Cable</td>\n",
       "    </tr>\n",
       "    <tr>\n",
       "      <th>676</th>\n",
       "      <td>177201</td>\n",
       "      <td>USB-C Charging Cable,Lightning Charging Cable</td>\n",
       "    </tr>\n",
       "    <tr>\n",
       "      <th>689</th>\n",
       "      <td>177213</td>\n",
       "      <td>iPhone,Lightning Charging Cable</td>\n",
       "    </tr>\n",
       "    <tr>\n",
       "      <th>705</th>\n",
       "      <td>177228</td>\n",
       "      <td>Google Phone,AA Batteries (4-pack)</td>\n",
       "    </tr>\n",
       "    <tr>\n",
       "      <th>732</th>\n",
       "      <td>177254</td>\n",
       "      <td>AA Batteries (4-pack),AAA Batteries (4-pack)</td>\n",
       "    </tr>\n",
       "    <tr>\n",
       "      <th>736</th>\n",
       "      <td>177256</td>\n",
       "      <td>Bose SoundSport Headphones,AA Batteries (4-pack)</td>\n",
       "    </tr>\n",
       "    <tr>\n",
       "      <th>781</th>\n",
       "      <td>177300</td>\n",
       "      <td>20in Monitor,Apple Airpods Headphones</td>\n",
       "    </tr>\n",
       "    <tr>\n",
       "      <th>849</th>\n",
       "      <td>177367</td>\n",
       "      <td>Google Phone,USB-C Charging Cable,Bose SoundSp...</td>\n",
       "    </tr>\n",
       "    <tr>\n",
       "      <th>882</th>\n",
       "      <td>177398</td>\n",
       "      <td>27in FHD Monitor,AAA Batteries (4-pack)</td>\n",
       "    </tr>\n",
       "    <tr>\n",
       "      <th>913</th>\n",
       "      <td>177428</td>\n",
       "      <td>Vareebadd Phone,USB-C Charging Cable</td>\n",
       "    </tr>\n",
       "    <tr>\n",
       "      <th>927</th>\n",
       "      <td>177441</td>\n",
       "      <td>iPhone,Lightning Charging Cable</td>\n",
       "    </tr>\n",
       "    <tr>\n",
       "      <th>930</th>\n",
       "      <td>177443</td>\n",
       "      <td>Apple Airpods Headphones,27in 4K Gaming Monitor</td>\n",
       "    </tr>\n",
       "    <tr>\n",
       "      <th>936</th>\n",
       "      <td>177448</td>\n",
       "      <td>Google Phone,USB-C Charging Cable</td>\n",
       "    </tr>\n",
       "    <tr>\n",
       "      <th>975</th>\n",
       "      <td>177486</td>\n",
       "      <td>ThinkPad Laptop,Google Phone</td>\n",
       "    </tr>\n",
       "    <tr>\n",
       "      <th>994</th>\n",
       "      <td>177504</td>\n",
       "      <td>Google Phone,USB-C Charging Cable</td>\n",
       "    </tr>\n",
       "    <tr>\n",
       "      <th>997</th>\n",
       "      <td>177506</td>\n",
       "      <td>iPhone,Apple Airpods Headphones</td>\n",
       "    </tr>\n",
       "    <tr>\n",
       "      <th>1003</th>\n",
       "      <td>177511</td>\n",
       "      <td>iPhone,Lightning Charging Cable</td>\n",
       "    </tr>\n",
       "    <tr>\n",
       "      <th>1062</th>\n",
       "      <td>177569</td>\n",
       "      <td>Wired Headphones,Google Phone</td>\n",
       "    </tr>\n",
       "    <tr>\n",
       "      <th>1072</th>\n",
       "      <td>177578</td>\n",
       "      <td>Google Phone,USB-C Charging Cable</td>\n",
       "    </tr>\n",
       "    <tr>\n",
       "      <th>1077</th>\n",
       "      <td>177582</td>\n",
       "      <td>Bose SoundSport Headphones,Wired Headphones</td>\n",
       "    </tr>\n",
       "    <tr>\n",
       "      <th>1088</th>\n",
       "      <td>177592</td>\n",
       "      <td>iPhone,Lightning Charging Cable</td>\n",
       "    </tr>\n",
       "    <tr>\n",
       "      <th>1135</th>\n",
       "      <td>177638</td>\n",
       "      <td>Apple Airpods Headphones,Google Phone</td>\n",
       "    </tr>\n",
       "    <tr>\n",
       "      <th>1181</th>\n",
       "      <td>177681</td>\n",
       "      <td>AAA Batteries (4-pack),Macbook Pro Laptop</td>\n",
       "    </tr>\n",
       "    <tr>\n",
       "      <th>1220</th>\n",
       "      <td>177719</td>\n",
       "      <td>Google Phone,USB-C Charging Cable</td>\n",
       "    </tr>\n",
       "    <tr>\n",
       "      <th>1260</th>\n",
       "      <td>177758</td>\n",
       "      <td>USB-C Charging Cable,Lightning Charging Cable</td>\n",
       "    </tr>\n",
       "    <tr>\n",
       "      <th>1272</th>\n",
       "      <td>177769</td>\n",
       "      <td>iPhone,Lightning Charging Cable</td>\n",
       "    </tr>\n",
       "    <tr>\n",
       "      <th>1282</th>\n",
       "      <td>177778</td>\n",
       "      <td>iPhone,Apple Airpods Headphones</td>\n",
       "    </tr>\n",
       "    <tr>\n",
       "      <th>1287</th>\n",
       "      <td>177782</td>\n",
       "      <td>Lightning Charging Cable,27in 4K Gaming Monitor</td>\n",
       "    </tr>\n",
       "    <tr>\n",
       "      <th>1301</th>\n",
       "      <td>177795</td>\n",
       "      <td>Apple Airpods Headphones,Apple Airpods Headphones</td>\n",
       "    </tr>\n",
       "    <tr>\n",
       "      <th>1307</th>\n",
       "      <td>177800</td>\n",
       "      <td>Google Phone,USB-C Charging Cable,Wired Headph...</td>\n",
       "    </tr>\n",
       "    <tr>\n",
       "      <th>1324</th>\n",
       "      <td>177815</td>\n",
       "      <td>Apple Airpods Headphones,Lightning Charging Cable</td>\n",
       "    </tr>\n",
       "    <tr>\n",
       "      <th>1371</th>\n",
       "      <td>177861</td>\n",
       "      <td>AA Batteries (4-pack),Apple Airpods Headphones</td>\n",
       "    </tr>\n",
       "    <tr>\n",
       "      <th>1385</th>\n",
       "      <td>177874</td>\n",
       "      <td>iPhone,Apple Airpods Headphones</td>\n",
       "    </tr>\n",
       "  </tbody>\n",
       "</table>\n",
       "</div>"
      ],
      "text/plain": [
       "     Order ID                                            Grouped\n",
       "3      176560                      Google Phone,Wired Headphones\n",
       "18     176574                  Google Phone,USB-C Charging Cable\n",
       "30     176585  Bose SoundSport Headphones,Bose SoundSport Hea...\n",
       "32     176586                AAA Batteries (4-pack),Google Phone\n",
       "119    176672      Lightning Charging Cable,USB-C Charging Cable\n",
       "129    176681           Apple Airpods Headphones,ThinkPad Laptop\n",
       "138    176689  Bose SoundSport Headphones,AAA Batteries (4-pack)\n",
       "189    176739                34in Ultrawide Monitor,Google Phone\n",
       "225    176774      Lightning Charging Cable,USB-C Charging Cable\n",
       "233    176781                    iPhone,Lightning Charging Cable\n",
       "250    176797  Google Phone,Bose SoundSport Headphones,Wired ...\n",
       "260    176805                  Google Phone,USB-C Charging Cable\n",
       "264    176808                      Google Phone,Wired Headphones\n",
       "270    176813                      Google Phone,Wired Headphones\n",
       "394    176935            AAA Batteries (4-pack),27in FHD Monitor\n",
       "435    176975        USB-C Charging Cable,AAA Batteries (4-pack)\n",
       "450    176989                  Google Phone,USB-C Charging Cable\n",
       "455    176993                            iPhone,Wired Headphones\n",
       "485    177022                            iPhone,Wired Headphones\n",
       "567    177102                      iPhone,27in 4K Gaming Monitor\n",
       "581    177115                    iPhone,Lightning Charging Cable\n",
       "584    177117             ThinkPad Laptop,AAA Batteries (4-pack)\n",
       "635    177167  iPhone,Apple Airpods Headphones,AAA Batteries ...\n",
       "648    177178                    iPhone,Lightning Charging Cable\n",
       "652    177181          Wired Headphones,Apple Airpods Headphones\n",
       "654    177182                 Macbook Pro Laptop,ThinkPad Laptop\n",
       "657    177184                AA Batteries (4-pack),Flatscreen TV\n",
       "672    177198               Vareebadd Phone,USB-C Charging Cable\n",
       "676    177201      USB-C Charging Cable,Lightning Charging Cable\n",
       "689    177213                    iPhone,Lightning Charging Cable\n",
       "705    177228                 Google Phone,AA Batteries (4-pack)\n",
       "732    177254       AA Batteries (4-pack),AAA Batteries (4-pack)\n",
       "736    177256   Bose SoundSport Headphones,AA Batteries (4-pack)\n",
       "781    177300              20in Monitor,Apple Airpods Headphones\n",
       "849    177367  Google Phone,USB-C Charging Cable,Bose SoundSp...\n",
       "882    177398            27in FHD Monitor,AAA Batteries (4-pack)\n",
       "913    177428               Vareebadd Phone,USB-C Charging Cable\n",
       "927    177441                    iPhone,Lightning Charging Cable\n",
       "930    177443    Apple Airpods Headphones,27in 4K Gaming Monitor\n",
       "936    177448                  Google Phone,USB-C Charging Cable\n",
       "975    177486                       ThinkPad Laptop,Google Phone\n",
       "994    177504                  Google Phone,USB-C Charging Cable\n",
       "997    177506                    iPhone,Apple Airpods Headphones\n",
       "1003   177511                    iPhone,Lightning Charging Cable\n",
       "1062   177569                      Wired Headphones,Google Phone\n",
       "1072   177578                  Google Phone,USB-C Charging Cable\n",
       "1077   177582        Bose SoundSport Headphones,Wired Headphones\n",
       "1088   177592                    iPhone,Lightning Charging Cable\n",
       "1135   177638              Apple Airpods Headphones,Google Phone\n",
       "1181   177681          AAA Batteries (4-pack),Macbook Pro Laptop\n",
       "1220   177719                  Google Phone,USB-C Charging Cable\n",
       "1260   177758      USB-C Charging Cable,Lightning Charging Cable\n",
       "1272   177769                    iPhone,Lightning Charging Cable\n",
       "1282   177778                    iPhone,Apple Airpods Headphones\n",
       "1287   177782    Lightning Charging Cable,27in 4K Gaming Monitor\n",
       "1301   177795  Apple Airpods Headphones,Apple Airpods Headphones\n",
       "1307   177800  Google Phone,USB-C Charging Cable,Wired Headph...\n",
       "1324   177815  Apple Airpods Headphones,Lightning Charging Cable\n",
       "1371   177861     AA Batteries (4-pack),Apple Airpods Headphones\n",
       "1385   177874                    iPhone,Apple Airpods Headphones"
      ]
     },
     "execution_count": 165,
     "metadata": {},
     "output_type": "execute_result"
    }
   ],
   "source": [
    "df = all_data[all_data['Order ID'].duplicated(keep=False)] \n",
    "\n",
    "df['Grouped'] = df.groupby('Order ID')['Product'].transform(lambda x:','.join(x))\n",
    "\n",
    "df = df[['Order ID','Grouped']].drop_duplicates() # grouping out duplicated \n",
    "\n",
    "df.head(60)"
   ]
  },
  {
   "cell_type": "code",
   "execution_count": null,
   "metadata": {},
   "outputs": [],
   "source": []
  },
  {
   "cell_type": "code",
   "execution_count": null,
   "metadata": {},
   "outputs": [],
   "source": []
  },
  {
   "cell_type": "code",
   "execution_count": null,
   "metadata": {},
   "outputs": [],
   "source": []
  },
  {
   "cell_type": "code",
   "execution_count": null,
   "metadata": {},
   "outputs": [],
   "source": []
  },
  {
   "cell_type": "code",
   "execution_count": null,
   "metadata": {},
   "outputs": [],
   "source": []
  },
  {
   "cell_type": "code",
   "execution_count": null,
   "metadata": {},
   "outputs": [],
   "source": []
  },
  {
   "cell_type": "code",
   "execution_count": null,
   "metadata": {},
   "outputs": [],
   "source": []
  }
 ],
 "metadata": {
  "kernelspec": {
   "display_name": "Python 3",
   "language": "python",
   "name": "python3"
  },
  "language_info": {
   "codemirror_mode": {
    "name": "ipython",
    "version": 3
   },
   "file_extension": ".py",
   "mimetype": "text/x-python",
   "name": "python",
   "nbconvert_exporter": "python",
   "pygments_lexer": "ipython3",
   "version": "3.8.3"
  }
 },
 "nbformat": 4,
 "nbformat_minor": 4
}

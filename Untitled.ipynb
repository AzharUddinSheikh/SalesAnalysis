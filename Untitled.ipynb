{
 "cells": [
  {
   "cell_type": "code",
   "execution_count": 2,
   "metadata": {},
   "outputs": [],
   "source": [
    "import pandas as pd\n",
    "import os \n"
   ]
  },
  {
   "cell_type": "markdown",
   "metadata": {},
   "source": [
    "Reading somefiles which are in different location "
   ]
  },
  {
   "cell_type": "code",
   "execution_count": 32,
   "metadata": {},
   "outputs": [
    {
     "name": "stdout",
     "output_type": "stream",
     "text": [
      "\f",
      "\n"
     ]
    }
   ],
   "source": [
    "df = pd.read_csv('./SalesAnalysis/Sales_Data/Sales_April_2019.csv')\n",
    "# df.head()\n",
    "%clear\n"
   ]
  },
  {
   "cell_type": "markdown",
   "metadata": {},
   "source": [
    "#lets read all files in print it \n"
   ]
  },
  {
   "cell_type": "code",
   "execution_count": 36,
   "metadata": {},
   "outputs": [
    {
     "name": "stdout",
     "output_type": "stream",
     "text": [
      "\f",
      "\n"
     ]
    }
   ],
   "source": [
    "files = [file for file in os.listdir('./SalesAnalysis/Sales_Data')]\n",
    "\n",
    "for file in files:\n",
    "    print(file)\n",
    "    \n",
    "%clear\n"
   ]
  },
  {
   "cell_type": "markdown",
   "metadata": {},
   "source": [
    "Merging all files data into one data frames .just check in google (how to concate dataframes )"
   ]
  },
  {
   "cell_type": "code",
   "execution_count": 34,
   "metadata": {},
   "outputs": [],
   "source": [
    "files = [file for file in os.listdir('./SalesAnalysis/Sales_Data')]\n",
    "\n",
    "all_month_data = pd.DataFrame()\n",
    "\n",
    "for file in files:\n",
    "    df = pd.read_csv('./SalesAnalysis/Sales_Data/'+file)\n",
    "    \n",
    "    all_month_data = pd.concat([all_month_data,df])\n",
    "    \n",
    "#     print(all_month_data)\n",
    "\n",
    "all_month_data.to_csv('all_data.csv',index=False)"
   ]
  },
  {
   "cell_type": "markdown",
   "metadata": {},
   "source": [
    "read in updated data frames"
   ]
  },
  {
   "cell_type": "code",
   "execution_count": 41,
   "metadata": {},
   "outputs": [
    {
     "name": "stdout",
     "output_type": "stream",
     "text": [
      "\f",
      "\n"
     ]
    }
   ],
   "source": [
    "all_data = pd.read_csv('all_data.csv')\n",
    "# all_data.head(50)\n",
    "# all_data.shape\n",
    "%clear"
   ]
  },
  {
   "cell_type": "markdown",
   "metadata": {},
   "source": [
    "\n",
    "# Augment data with additional columns "
   ]
  },
  {
   "cell_type": "markdown",
   "metadata": {},
   "source": [
    "when we are performing to take out month we see to many nan value we have to clean it "
   ]
  },
  {
   "cell_type": "code",
   "execution_count": 45,
   "metadata": {},
   "outputs": [
    {
     "name": "stdout",
     "output_type": "stream",
     "text": [
      "\f",
      "\n"
     ]
    }
   ],
   "source": [
    "# del all_data['Month']\n",
    "# all_data.head(100) # we cant see \n",
    "\n",
    "nan_df = all_data[all_data.isna().any(axis=1)]\n",
    "nan_df.head(50)\n",
    "nan_df.shape\n",
    "%clear"
   ]
  },
  {
   "cell_type": "markdown",
   "metadata": {},
   "source": [
    "clean data #1 find nan values and delete it"
   ]
  },
  {
   "cell_type": "code",
   "execution_count": 61,
   "metadata": {},
   "outputs": [
    {
     "name": "stdout",
     "output_type": "stream",
     "text": [
      "\f",
      "\n"
     ]
    }
   ],
   "source": [
    "all_data = all_data.dropna(how='all')\n",
    "all_data.head()\n",
    "%clear"
   ]
  },
  {
   "cell_type": "markdown",
   "metadata": {},
   "source": [
    "clean data #2 find Or values and delete it "
   ]
  },
  {
   "cell_type": "code",
   "execution_count": 70,
   "metadata": {},
   "outputs": [],
   "source": [
    "all_data = all_data[all_data['Order Date'].str[0:2] !='Or']\n",
    "\n",
    "\n",
    "# temp_df = all_data[all_data['Order Date'].str[0:2]=='Or']\n",
    "# temp_df.tail()\n",
    "# temp_df.shape # or file total of 355 entry "
   ]
  },
  {
   "cell_type": "markdown",
   "metadata": {},
   "source": [
    "#3 Convert column to the correct type"
   ]
  },
  {
   "cell_type": "code",
   "execution_count": 77,
   "metadata": {},
   "outputs": [
    {
     "name": "stdout",
     "output_type": "stream",
     "text": [
      "\f",
      "\n"
     ]
    }
   ],
   "source": [
    "all_data['Quantity Ordered'] = pd.to_numeric(all_data['Quantity Ordered'])  # make int\n",
    "all_data['Price Each'] = pd.to_numeric(all_data['Price Each'])        # make flaot\n",
    "\n",
    "all_data.head()\n"
   ]
  },
  {
   "cell_type": "markdown",
   "metadata": {},
   "source": [
    "add month column (data type is int64 convert it into string) "
   ]
  },
  {
   "cell_type": "code",
   "execution_count": 78,
   "metadata": {},
   "outputs": [],
   "source": [
    "datatype = all_data.dtypes['Order Date']\n",
    "# print(datatype)\n",
    "\n",
    "\n",
    "all_data['Month'] = all_data['Order Date'].str[0:2] \n",
    "#converted and indexed and sliced \n",
    "# all_data.tail() \n",
    "\n",
    "\n",
    "# '''go clean find Or and delete it before converting back to intger'''\n",
    "all_data['Month'] = all_data['Month'].astype('int32')\n",
    "# all_data.head()\n",
    "# ValueError: invalid literal for int() with base 10: 'Or'\n",
    "\n",
    "\n"
   ]
  },
  {
   "cell_type": "markdown",
   "metadata": {},
   "source": [
    "WHAT WAS THE BEST MONTH FOR SALES AND HOW MUCH WAS EARNED THAT MONTH?"
   ]
  },
  {
   "cell_type": "markdown",
   "metadata": {},
   "source": [
    "ADD a sales column \n"
   ]
  },
  {
   "cell_type": "code",
   "execution_count": 90,
   "metadata": {},
   "outputs": [],
   "source": [
    "all_data['Sales'] = all_data['Quantity Ordered'] * all_data['Price Each']\n",
    "\n",
    "# all_data.head()\n",
    "# can't multiply sequence by non-int of type 'str'\n",
    "# go back clean data or change dtype\n",
    "# convert column to the correct type $$\n"
   ]
  },
  {
   "cell_type": "markdown",
   "metadata": {},
   "source": [
    "Adding column for city # use .apply method"
   ]
  },
  {
   "cell_type": "code",
   "execution_count": 99,
   "metadata": {},
   "outputs": [],
   "source": [
    "def get_city(address):\n",
    "    return address.split(',')[1]\n",
    "\n",
    "def get_state(address):\n",
    "    return address.split(',')[2].split(' ')[1]\n",
    "\n",
    "all_data['City'] = all_data['Purchase Address'].apply(lambda x:get_city(x)+\" \"+get_state(x))\n",
    "\n",
    "# all_data['City'] = all_data['Purchase Address'].apply(lambda x:x.split(',')[1])\n",
    "# all_data.head()\n",
    "\n"
   ]
  },
  {
   "cell_type": "code",
   "execution_count": 83,
   "metadata": {},
   "outputs": [
    {
     "name": "stdout",
     "output_type": "stream",
     "text": [
      "\f",
      "\n"
     ]
    }
   ],
   "source": [
    "# groupby \n",
    "all_data.groupby('Month').sum()\n",
    "%clear"
   ]
  },
  {
   "cell_type": "code",
   "execution_count": 89,
   "metadata": {},
   "outputs": [
    {
     "name": "stdout",
     "output_type": "stream",
     "text": [
      "\f",
      "\n"
     ]
    }
   ],
   "source": [
    "import matplotlib.pyplot as plt\n",
    "\n",
    "months = range(1,13)\n",
    "result = all_data.groupby('Month').sum()\n",
    "\n",
    "#we  just need sales data\n",
    "plt.bar(months,result['Sales'])\n",
    "plt.xticks(months)\n",
    "plt.ylabel('Sales in USD ($)')\n",
    "plt.xlabel('Month number')\n",
    "plt.show()\n",
    "%clear"
   ]
  },
  {
   "cell_type": "markdown",
   "metadata": {},
   "source": [
    "WHAT CITY HAD THE HIGHEST NO OF SALES"
   ]
  },
  {
   "cell_type": "code",
   "execution_count": 102,
   "metadata": {},
   "outputs": [],
   "source": [
    "# add city column \n",
    "# groupby \n",
    "result = all_data.groupby('City').sum()\n",
    "# result\n"
   ]
  },
  {
   "cell_type": "code",
   "execution_count": 110,
   "metadata": {},
   "outputs": [
    {
     "name": "stdout",
     "output_type": "stream",
     "text": [
      "\f",
      "\n"
     ]
    }
   ],
   "source": [
    "# city = all_data['City'].unique() # order messed here\n",
    "city = [city for city, df in all_data.groupby('City')]\n",
    "\n",
    "plt.bar(city,result['Sales'])\n",
    "plt.xticks(city, rotation = 'vertical', size = 8)\n",
    "plt.ylabel('Sales in USD ($)')\n",
    "plt.xlabel('City name')\n",
    "plt.show()\n",
    "# graph shows austin have max sales but on dataframes we see san fransico have maximum sales\n",
    "%clear"
   ]
  },
  {
   "cell_type": "markdown",
   "metadata": {},
   "source": [
    "WHAT TIME SHOULD WE DISPLAY ADVERTISEMENT TO MAXI LIKELIHOOD OF CUSTOMERS BUYING PRODUCT"
   ]
  },
  {
   "cell_type": "code",
   "execution_count": 116,
   "metadata": {},
   "outputs": [],
   "source": [
    "# first change order date  to date time format becuase we need to take out hours from time  \n",
    "\n",
    "all_data['Order Date'] = pd.to_datetime(all_data['Order Date'])\n",
    "# all_data.head()\n",
    "\n",
    "# insert new column name it hours \n",
    "\n",
    "all_data['Hour'] = all_data['Order Date'].dt.hour\n",
    "all_data['Minute'] = all_data['Order Date'].dt.minute\n",
    "# all_data.head() \n"
   ]
  },
  {
   "cell_type": "code",
   "execution_count": 125,
   "metadata": {},
   "outputs": [],
   "source": [
    "all_data['Count'] = 1\n",
    "\n",
    "hour = [hour for hour, df in all_data.groupby('Hour')]\n",
    "\n",
    "plt.plot(hour, all_data.groupby(['Hour']).count())\n",
    "plt.xticks(hour)\n",
    "plt.xlabel('Hours')\n",
    "plt.ylabel('No of orders')\n",
    "plt.grid()\n",
    "plt.show()\n",
    "\n",
    "# all_data.groupby(['Hour']).count()"
   ]
  },
  {
   "cell_type": "markdown",
   "metadata": {},
   "source": [
    "WHAT ORDER AREA MOST SOLD TOGETHER"
   ]
  },
  {
   "cell_type": "code",
   "execution_count": 152,
   "metadata": {},
   "outputs": [
    {
     "name": "stdout",
     "output_type": "stream",
     "text": [
      "\f",
      "\n"
     ]
    }
   ],
   "source": [
    "# df = all_data[all_data['Order ID'].duplicated(keep=False)]\n",
    "\n",
    "# x = all_data['Order ID'].duplicated(keep=False) # it ll provided you in boolean only \n",
    "\n",
    "# all_data[x] # it ll provide whole data frame with provided condition\n",
    " \n",
    "\n",
    "\n",
    "# all_data['Order ID'].duplicated() # keep = \"last\" is a default format \n",
    "# x=all_data['Order ID'].duplicated(keep = \"first\") # it ll give you true first duplicate file and false rest over\n"
   ]
  },
  {
   "cell_type": "code",
   "execution_count": 166,
   "metadata": {},
   "outputs": [
    {
     "name": "stderr",
     "output_type": "stream",
     "text": [
      "<ipython-input-166-14f06af036b0>:3: SettingWithCopyWarning: \n",
      "A value is trying to be set on a copy of a slice from a DataFrame.\n",
      "Try using .loc[row_indexer,col_indexer] = value instead\n",
      "\n",
      "See the caveats in the documentation: https://pandas.pydata.org/pandas-docs/stable/user_guide/indexing.html#returning-a-view-versus-a-copy\n",
      "  df['Grouped'] = df.groupby('Order ID')['Product'].transform(lambda x:','.join(x))\n"
     ]
    }
   ],
   "source": [
    "df = all_data[all_data['Order ID'].duplicated(keep=False)] \n",
    "\n",
    "df['Grouped'] = df.groupby('Order ID')['Product'].transform(lambda x:','.join(x))\n",
    "\n",
    "df = df[['Order ID','Grouped']].drop_duplicates() # grouping out duplicated \n",
    "\n"
   ]
  },
  {
   "cell_type": "code",
   "execution_count": 169,
   "metadata": {},
   "outputs": [],
   "source": [
    "#lets count the pair which appear most frequently we have to use library itertools\n",
    "# https://stackoverflow.com/questions/52195887/counting-unique-pairs-of-numbers-into-a-python-dictionary\n",
    "\n",
    "from itertools import combinations\n",
    "from collections import Counter"
   ]
  },
  {
   "cell_type": "code",
   "execution_count": 173,
   "metadata": {},
   "outputs": [],
   "source": [
    "count = Counter()\n",
    "for row in df['Grouped']:\n",
    "    row_list = row.split(',')\n",
    "    count.update(Counter(combinations(row_list,2)))\n",
    "    \n",
    "# print(count)"
   ]
  },
  {
   "cell_type": "code",
   "execution_count": 180,
   "metadata": {},
   "outputs": [],
   "source": [
    "count.most_common(10)\n",
    "\n",
    "for key ,value in count.most_common(10):\n",
    "    print(key,value)\n",
    "    print(f'{key} = {value}')"
   ]
  },
  {
   "cell_type": "markdown",
   "metadata": {},
   "source": [
    "WHAT PRODUCT SOLD THE MOST AND WHY DO YOU THINK IT SOLD THE MOST "
   ]
  },
  {
   "cell_type": "code",
   "execution_count": 184,
   "metadata": {},
   "outputs": [
    {
     "data": {
      "text/html": [
       "<div>\n",
       "<style scoped>\n",
       "    .dataframe tbody tr th:only-of-type {\n",
       "        vertical-align: middle;\n",
       "    }\n",
       "\n",
       "    .dataframe tbody tr th {\n",
       "        vertical-align: top;\n",
       "    }\n",
       "\n",
       "    .dataframe thead th {\n",
       "        text-align: right;\n",
       "    }\n",
       "</style>\n",
       "<table border=\"1\" class=\"dataframe\">\n",
       "  <thead>\n",
       "    <tr style=\"text-align: right;\">\n",
       "      <th></th>\n",
       "      <th>Quantity Ordered</th>\n",
       "      <th>Price Each</th>\n",
       "      <th>Month</th>\n",
       "      <th>Sales</th>\n",
       "      <th>Hour</th>\n",
       "      <th>Minute</th>\n",
       "      <th>Count</th>\n",
       "    </tr>\n",
       "    <tr>\n",
       "      <th>Product</th>\n",
       "      <th></th>\n",
       "      <th></th>\n",
       "      <th></th>\n",
       "      <th></th>\n",
       "      <th></th>\n",
       "      <th></th>\n",
       "      <th></th>\n",
       "    </tr>\n",
       "  </thead>\n",
       "  <tbody>\n",
       "    <tr>\n",
       "      <th>20in Monitor</th>\n",
       "      <td>4129</td>\n",
       "      <td>451068.99</td>\n",
       "      <td>29336</td>\n",
       "      <td>454148.71</td>\n",
       "      <td>58764</td>\n",
       "      <td>122252</td>\n",
       "      <td>4101</td>\n",
       "    </tr>\n",
       "    <tr>\n",
       "      <th>27in 4K Gaming Monitor</th>\n",
       "      <td>6244</td>\n",
       "      <td>2429637.70</td>\n",
       "      <td>44440</td>\n",
       "      <td>2435097.56</td>\n",
       "      <td>90916</td>\n",
       "      <td>184331</td>\n",
       "      <td>6230</td>\n",
       "    </tr>\n",
       "    <tr>\n",
       "      <th>27in FHD Monitor</th>\n",
       "      <td>7550</td>\n",
       "      <td>1125974.93</td>\n",
       "      <td>52558</td>\n",
       "      <td>1132424.50</td>\n",
       "      <td>107540</td>\n",
       "      <td>219948</td>\n",
       "      <td>7507</td>\n",
       "    </tr>\n",
       "    <tr>\n",
       "      <th>34in Ultrawide Monitor</th>\n",
       "      <td>6199</td>\n",
       "      <td>2348718.19</td>\n",
       "      <td>43304</td>\n",
       "      <td>2355558.01</td>\n",
       "      <td>89076</td>\n",
       "      <td>183480</td>\n",
       "      <td>6181</td>\n",
       "    </tr>\n",
       "    <tr>\n",
       "      <th>AA Batteries (4-pack)</th>\n",
       "      <td>27635</td>\n",
       "      <td>79015.68</td>\n",
       "      <td>145558</td>\n",
       "      <td>106118.40</td>\n",
       "      <td>298342</td>\n",
       "      <td>609039</td>\n",
       "      <td>20577</td>\n",
       "    </tr>\n",
       "    <tr>\n",
       "      <th>AAA Batteries (4-pack)</th>\n",
       "      <td>31017</td>\n",
       "      <td>61716.59</td>\n",
       "      <td>146370</td>\n",
       "      <td>92740.83</td>\n",
       "      <td>297332</td>\n",
       "      <td>612113</td>\n",
       "      <td>20641</td>\n",
       "    </tr>\n",
       "    <tr>\n",
       "      <th>Apple Airpods Headphones</th>\n",
       "      <td>15661</td>\n",
       "      <td>2332350.00</td>\n",
       "      <td>109477</td>\n",
       "      <td>2349150.00</td>\n",
       "      <td>223304</td>\n",
       "      <td>455570</td>\n",
       "      <td>15549</td>\n",
       "    </tr>\n",
       "    <tr>\n",
       "      <th>Bose SoundSport Headphones</th>\n",
       "      <td>13457</td>\n",
       "      <td>1332366.75</td>\n",
       "      <td>94113</td>\n",
       "      <td>1345565.43</td>\n",
       "      <td>192445</td>\n",
       "      <td>392603</td>\n",
       "      <td>13325</td>\n",
       "    </tr>\n",
       "    <tr>\n",
       "      <th>Flatscreen TV</th>\n",
       "      <td>4819</td>\n",
       "      <td>1440000.00</td>\n",
       "      <td>34224</td>\n",
       "      <td>1445700.00</td>\n",
       "      <td>68815</td>\n",
       "      <td>142789</td>\n",
       "      <td>4800</td>\n",
       "    </tr>\n",
       "    <tr>\n",
       "      <th>Google Phone</th>\n",
       "      <td>5532</td>\n",
       "      <td>3315000.00</td>\n",
       "      <td>38305</td>\n",
       "      <td>3319200.00</td>\n",
       "      <td>79479</td>\n",
       "      <td>162773</td>\n",
       "      <td>5525</td>\n",
       "    </tr>\n",
       "    <tr>\n",
       "      <th>LG Dryer</th>\n",
       "      <td>646</td>\n",
       "      <td>387600.00</td>\n",
       "      <td>4383</td>\n",
       "      <td>387600.00</td>\n",
       "      <td>9326</td>\n",
       "      <td>19043</td>\n",
       "      <td>646</td>\n",
       "    </tr>\n",
       "    <tr>\n",
       "      <th>LG Washing Machine</th>\n",
       "      <td>666</td>\n",
       "      <td>399600.00</td>\n",
       "      <td>4523</td>\n",
       "      <td>399600.00</td>\n",
       "      <td>9785</td>\n",
       "      <td>19462</td>\n",
       "      <td>666</td>\n",
       "    </tr>\n",
       "    <tr>\n",
       "      <th>Lightning Charging Cable</th>\n",
       "      <td>23217</td>\n",
       "      <td>323787.10</td>\n",
       "      <td>153092</td>\n",
       "      <td>347094.15</td>\n",
       "      <td>312529</td>\n",
       "      <td>634442</td>\n",
       "      <td>21658</td>\n",
       "    </tr>\n",
       "    <tr>\n",
       "      <th>Macbook Pro Laptop</th>\n",
       "      <td>4728</td>\n",
       "      <td>8030800.00</td>\n",
       "      <td>33548</td>\n",
       "      <td>8037600.00</td>\n",
       "      <td>68261</td>\n",
       "      <td>137574</td>\n",
       "      <td>4724</td>\n",
       "    </tr>\n",
       "    <tr>\n",
       "      <th>ThinkPad Laptop</th>\n",
       "      <td>4130</td>\n",
       "      <td>4127958.72</td>\n",
       "      <td>28950</td>\n",
       "      <td>4129958.70</td>\n",
       "      <td>59746</td>\n",
       "      <td>121508</td>\n",
       "      <td>4128</td>\n",
       "    </tr>\n",
       "    <tr>\n",
       "      <th>USB-C Charging Cable</th>\n",
       "      <td>23975</td>\n",
       "      <td>261740.85</td>\n",
       "      <td>154819</td>\n",
       "      <td>286501.25</td>\n",
       "      <td>314645</td>\n",
       "      <td>647586</td>\n",
       "      <td>21903</td>\n",
       "    </tr>\n",
       "    <tr>\n",
       "      <th>Vareebadd Phone</th>\n",
       "      <td>2068</td>\n",
       "      <td>826000.00</td>\n",
       "      <td>14309</td>\n",
       "      <td>827200.00</td>\n",
       "      <td>29472</td>\n",
       "      <td>61835</td>\n",
       "      <td>2065</td>\n",
       "    </tr>\n",
       "    <tr>\n",
       "      <th>Wired Headphones</th>\n",
       "      <td>20557</td>\n",
       "      <td>226395.18</td>\n",
       "      <td>133397</td>\n",
       "      <td>246478.43</td>\n",
       "      <td>271720</td>\n",
       "      <td>554023</td>\n",
       "      <td>18882</td>\n",
       "    </tr>\n",
       "    <tr>\n",
       "      <th>iPhone</th>\n",
       "      <td>6849</td>\n",
       "      <td>4789400.00</td>\n",
       "      <td>47941</td>\n",
       "      <td>4794300.00</td>\n",
       "      <td>98657</td>\n",
       "      <td>201688</td>\n",
       "      <td>6842</td>\n",
       "    </tr>\n",
       "  </tbody>\n",
       "</table>\n",
       "</div>"
      ],
      "text/plain": [
       "                            Quantity Ordered  Price Each   Month       Sales  \\\n",
       "Product                                                                        \n",
       "20in Monitor                            4129   451068.99   29336   454148.71   \n",
       "27in 4K Gaming Monitor                  6244  2429637.70   44440  2435097.56   \n",
       "27in FHD Monitor                        7550  1125974.93   52558  1132424.50   \n",
       "34in Ultrawide Monitor                  6199  2348718.19   43304  2355558.01   \n",
       "AA Batteries (4-pack)                  27635    79015.68  145558   106118.40   \n",
       "AAA Batteries (4-pack)                 31017    61716.59  146370    92740.83   \n",
       "Apple Airpods Headphones               15661  2332350.00  109477  2349150.00   \n",
       "Bose SoundSport Headphones             13457  1332366.75   94113  1345565.43   \n",
       "Flatscreen TV                           4819  1440000.00   34224  1445700.00   \n",
       "Google Phone                            5532  3315000.00   38305  3319200.00   \n",
       "LG Dryer                                 646   387600.00    4383   387600.00   \n",
       "LG Washing Machine                       666   399600.00    4523   399600.00   \n",
       "Lightning Charging Cable               23217   323787.10  153092   347094.15   \n",
       "Macbook Pro Laptop                      4728  8030800.00   33548  8037600.00   \n",
       "ThinkPad Laptop                         4130  4127958.72   28950  4129958.70   \n",
       "USB-C Charging Cable                   23975   261740.85  154819   286501.25   \n",
       "Vareebadd Phone                         2068   826000.00   14309   827200.00   \n",
       "Wired Headphones                       20557   226395.18  133397   246478.43   \n",
       "iPhone                                  6849  4789400.00   47941  4794300.00   \n",
       "\n",
       "                              Hour  Minute  Count  \n",
       "Product                                            \n",
       "20in Monitor                 58764  122252   4101  \n",
       "27in 4K Gaming Monitor       90916  184331   6230  \n",
       "27in FHD Monitor            107540  219948   7507  \n",
       "34in Ultrawide Monitor       89076  183480   6181  \n",
       "AA Batteries (4-pack)       298342  609039  20577  \n",
       "AAA Batteries (4-pack)      297332  612113  20641  \n",
       "Apple Airpods Headphones    223304  455570  15549  \n",
       "Bose SoundSport Headphones  192445  392603  13325  \n",
       "Flatscreen TV                68815  142789   4800  \n",
       "Google Phone                 79479  162773   5525  \n",
       "LG Dryer                      9326   19043    646  \n",
       "LG Washing Machine            9785   19462    666  \n",
       "Lightning Charging Cable    312529  634442  21658  \n",
       "Macbook Pro Laptop           68261  137574   4724  \n",
       "ThinkPad Laptop              59746  121508   4128  \n",
       "USB-C Charging Cable        314645  647586  21903  \n",
       "Vareebadd Phone              29472   61835   2065  \n",
       "Wired Headphones            271720  554023  18882  \n",
       "iPhone                       98657  201688   6842  "
      ]
     },
     "execution_count": 184,
     "metadata": {},
     "output_type": "execute_result"
    }
   ],
   "source": [
    "# all_data.head()\n",
    "\n",
    "product_group = all_data.groupby('Product').sum()\n"
   ]
  },
  {
   "cell_type": "code",
   "execution_count": 191,
   "metadata": {},
   "outputs": [
    {
     "data": {
      "image/png": "[encoded data removed]",
      "text/plain": [
       "<Figure size 432x288 with 1 Axes>"
      ]
     },
     "metadata": {
      "needs_background": "light"
     },
     "output_type": "display_data"
    }
   ],
   "source": [
    "# all_data.head()\n",
    "\n",
    "product_group = all_data.groupby('Product')\n",
    "\n",
    "quantity_ordered = product_group.sum()['Quantity Ordered']\n",
    "# quantity_ordered # it think it shows total unit sold\n",
    "\n",
    "products= [ product for product, df in product_group]\n",
    "\n",
    "plt.ylabel('Quantity Ordered')\n",
    "plt.xlabel('products name')\n",
    "\n",
    "plt.bar(products,quantity_ordered)\n",
    "\n",
    "plt.xticks(products,rotation = 'vertical',size=8)\n",
    "\n",
    "plt.show()\n"
   ]
  },
  {
   "cell_type": "code",
   "execution_count": null,
   "metadata": {},
   "outputs": [],
   "source": []
  }
 ],
 "metadata": {
  "kernelspec": {
   "display_name": "Python 3",
   "language": "python",
   "name": "python3"
  },
  "language_info": {
   "codemirror_mode": {
    "name": "ipython",
    "version": 3
   },
   "file_extension": ".py",
   "mimetype": "text/x-python",
   "name": "python",
   "nbconvert_exporter": "python",
   "pygments_lexer": "ipython3",
   "version": "3.8.3"
  }
 },
 "nbformat": 4,
 "nbformat_minor": 4
}

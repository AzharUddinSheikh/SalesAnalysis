{
 "cells": [
  {
   "cell_type": "code",
   "execution_count": 2,
   "metadata": {},
   "outputs": [],
   "source": [
    "import pandas as pd\n",
    "import os \n"
   ]
  },
  {
   "cell_type": "markdown",
   "metadata": {},
   "source": [
    "Reading somefiles which are in different location "
   ]
  },
  {
   "cell_type": "code",
   "execution_count": 32,
   "metadata": {},
   "outputs": [
    {
     "name": "stdout",
     "output_type": "stream",
     "text": [
      "\f",
      "\n"
     ]
    }
   ],
   "source": [
    "df = pd.read_csv('./SalesAnalysis/Sales_Data/Sales_April_2019.csv')\n",
    "# df.head()\n",
    "%clear\n"
   ]
  },
  {
   "cell_type": "markdown",
   "metadata": {},
   "source": [
    "#lets read all files in print it \n"
   ]
  },
  {
   "cell_type": "code",
   "execution_count": 36,
   "metadata": {},
   "outputs": [
    {
     "name": "stdout",
     "output_type": "stream",
     "text": [
      "\f",
      "\n"
     ]
    }
   ],
   "source": [
    "files = [file for file in os.listdir('./SalesAnalysis/Sales_Data')]\n",
    "\n",
    "for file in files:\n",
    "    print(file)\n",
    "    \n",
    "%clear\n"
   ]
  },
  {
   "cell_type": "markdown",
   "metadata": {},
   "source": [
    "Merging all files data into one data frames .just check in google (how to concate dataframes )"
   ]
  },
  {
   "cell_type": "code",
   "execution_count": 34,
   "metadata": {},
   "outputs": [],
   "source": [
    "files = [file for file in os.listdir('./SalesAnalysis/Sales_Data')]\n",
    "\n",
    "all_month_data = pd.DataFrame()\n",
    "\n",
    "for file in files:\n",
    "    df = pd.read_csv('./SalesAnalysis/Sales_Data/'+file)\n",
    "    \n",
    "    all_month_data = pd.concat([all_month_data,df])\n",
    "    \n",
    "#     print(all_month_data)\n",
    "\n",
    "all_month_data.to_csv('all_data.csv',index=False)"
   ]
  },
  {
   "cell_type": "markdown",
   "metadata": {},
   "source": [
    "read in updated data frames"
   ]
  },
  {
   "cell_type": "code",
   "execution_count": 41,
   "metadata": {},
   "outputs": [
    {
     "name": "stdout",
     "output_type": "stream",
     "text": [
      "\f",
      "\n"
     ]
    }
   ],
   "source": [
    "all_data = pd.read_csv('all_data.csv')\n",
    "# all_data.head(50)\n",
    "# all_data.shape\n",
    "%clear"
   ]
  },
  {
   "cell_type": "markdown",
   "metadata": {},
   "source": [
    "\n",
    "# Augment data with additional columns "
   ]
  },
  {
   "cell_type": "markdown",
   "metadata": {},
   "source": [
    "when we are performing to take out month we see to many nan value we have to clean it "
   ]
  },
  {
   "cell_type": "code",
   "execution_count": 45,
   "metadata": {},
   "outputs": [
    {
     "name": "stdout",
     "output_type": "stream",
     "text": [
      "\f",
      "\n"
     ]
    }
   ],
   "source": [
    "# del all_data['Month']\n",
    "# all_data.head(100) # we cant see \n",
    "\n",
    "nan_df = all_data[all_data.isna().any(axis=1)]\n",
    "nan_df.head(50)\n",
    "nan_df.shape\n",
    "%clear"
   ]
  },
  {
   "cell_type": "markdown",
   "metadata": {},
   "source": [
    "clean data #1 find nan values and delete it"
   ]
  },
  {
   "cell_type": "code",
   "execution_count": 61,
   "metadata": {},
   "outputs": [
    {
     "name": "stdout",
     "output_type": "stream",
     "text": [
      "\f",
      "\n"
     ]
    }
   ],
   "source": [
    "all_data = all_data.dropna(how='all')\n",
    "all_data.head()\n",
    "%clear"
   ]
  },
  {
   "cell_type": "markdown",
   "metadata": {},
   "source": [
    "clean data #2 find Or values and delete it "
   ]
  },
  {
   "cell_type": "code",
   "execution_count": 70,
   "metadata": {},
   "outputs": [],
   "source": [
    "all_data = all_data[all_data['Order Date'].str[0:2] !='Or']\n",
    "\n",
    "\n",
    "# temp_df = all_data[all_data['Order Date'].str[0:2]=='Or']\n",
    "# temp_df.tail()\n",
    "# temp_df.shape # or file total of 355 entry "
   ]
  },
  {
   "cell_type": "markdown",
   "metadata": {},
   "source": [
    "#3 Convert column to the correct type"
   ]
  },
  {
   "cell_type": "code",
   "execution_count": 77,
   "metadata": {},
   "outputs": [
    {
     "name": "stdout",
     "output_type": "stream",
     "text": [
      "\f",
      "\n"
     ]
    }
   ],
   "source": [
    "all_data['Quantity Ordered'] = pd.to_numeric(all_data['Quantity Ordered'])  # make int\n",
    "all_data['Price Each'] = pd.to_numeric(all_data['Price Each'])        # make flaot\n",
    "\n",
    "all_data.head()\n"
   ]
  },
  {
   "cell_type": "markdown",
   "metadata": {},
   "source": [
    "add month column (data type is int64 convert it into string) "
   ]
  },
  {
   "cell_type": "code",
   "execution_count": 78,
   "metadata": {},
   "outputs": [],
   "source": [
    "datatype = all_data.dtypes['Order Date']\n",
    "# print(datatype)\n",
    "\n",
    "\n",
    "all_data['Month'] = all_data['Order Date'].str[0:2] \n",
    "#converted and indexed and sliced \n",
    "# all_data.tail() \n",
    "\n",
    "\n",
    "# '''go clean find Or and delete it before converting back to intger'''\n",
    "all_data['Month'] = all_data['Month'].astype('int32')\n",
    "# all_data.head()\n",
    "# ValueError: invalid literal for int() with base 10: 'Or'\n",
    "\n",
    "\n"
   ]
  },
  {
   "cell_type": "markdown",
   "metadata": {},
   "source": [
    "WHAT WAS THE BEST MONTH FOR SALES AND HOW MUCH WAS EARNED THAT MONTH?"
   ]
  },
  {
   "cell_type": "markdown",
   "metadata": {},
   "source": [
    "ADD a sales column \n"
   ]
  },
  {
   "cell_type": "code",
   "execution_count": 90,
   "metadata": {},
   "outputs": [],
   "source": [
    "all_data['Sales'] = all_data['Quantity Ordered'] * all_data['Price Each']\n",
    "\n",
    "# all_data.head()\n",
    "# can't multiply sequence by non-int of type 'str'\n",
    "# go back clean data or change dtype\n",
    "# convert column to the correct type $$\n"
   ]
  },
  {
   "cell_type": "markdown",
   "metadata": {},
   "source": [
    "Adding column for city # use .apply method"
   ]
  },
  {
   "cell_type": "code",
   "execution_count": 99,
   "metadata": {},
   "outputs": [],
   "source": [
    "def get_city(address):\n",
    "    return address.split(',')[1]\n",
    "\n",
    "def get_state(address):\n",
    "    return address.split(',')[2].split(' ')[1]\n",
    "\n",
    "all_data['City'] = all_data['Purchase Address'].apply(lambda x:get_city(x)+\" \"+get_state(x))\n",
    "\n",
    "# all_data['City'] = all_data['Purchase Address'].apply(lambda x:x.split(',')[1])\n",
    "# all_data.head()\n",
    "\n"
   ]
  },
  {
   "cell_type": "code",
   "execution_count": 83,
   "metadata": {},
   "outputs": [
    {
     "name": "stdout",
     "output_type": "stream",
     "text": [
      "\f",
      "\n"
     ]
    }
   ],
   "source": [
    "# groupby \n",
    "all_data.groupby('Month').sum()\n",
    "%clear"
   ]
  },
  {
   "cell_type": "code",
   "execution_count": 89,
   "metadata": {},
   "outputs": [
    {
     "name": "stdout",
     "output_type": "stream",
     "text": [
      "\f",
      "\n"
     ]
    }
   ],
   "source": [
    "import matplotlib.pyplot as plt\n",
    "\n",
    "months = range(1,13)\n",
    "result = all_data.groupby('Month').sum()\n",
    "\n",
    "#we  just need sales data\n",
    "plt.bar(months,result['Sales'])\n",
    "plt.xticks(months)\n",
    "plt.ylabel('Sales in USD ($)')\n",
    "plt.xlabel('Month number')\n",
    "plt.show()\n",
    "%clear"
   ]
  },
  {
   "cell_type": "markdown",
   "metadata": {},
   "source": [
    "WHAT CITY HAD THE HIGHEST NO OF SALES"
   ]
  },
  {
   "cell_type": "code",
   "execution_count": 102,
   "metadata": {},
   "outputs": [],
   "source": [
    "# add city column \n",
    "# groupby \n",
    "result = all_data.groupby('City').sum()\n",
    "# result\n"
   ]
  },
  {
   "cell_type": "code",
   "execution_count": 110,
   "metadata": {},
   "outputs": [
    {
     "name": "stdout",
     "output_type": "stream",
     "text": [
      "\f",
      "\n"
     ]
    }
   ],
   "source": [
    "# city = all_data['City'].unique() # order messed here\n",
    "city = [city for city, df in all_data.groupby('City')]\n",
    "\n",
    "plt.bar(city,result['Sales'])\n",
    "plt.xticks(city, rotation = 'vertical', size = 8)\n",
    "plt.ylabel('Sales in USD ($)')\n",
    "plt.xlabel('City name')\n",
    "plt.show()\n",
    "# graph shows austin have max sales but on dataframes we see san fransico have maximum sales\n",
    "%clear"
   ]
  },
  {
   "cell_type": "markdown",
   "metadata": {},
   "source": [
    "WHAT TIME SHOULD WE DISPLAY ADVERTISEMENT TO MAXI LIKELIHOOD OF CUSTOMERS BUYING PRODUCT"
   ]
  },
  {
   "cell_type": "code",
   "execution_count": 116,
   "metadata": {},
   "outputs": [],
   "source": [
    "# first change order date  to date time format becuase we need to take out hours from time  \n",
    "\n",
    "all_data['Order Date'] = pd.to_datetime(all_data['Order Date'])\n",
    "# all_data.head()\n",
    "\n",
    "# insert new column name it hours \n",
    "\n",
    "all_data['Hour'] = all_data['Order Date'].dt.hour\n",
    "all_data['Minute'] = all_data['Order Date'].dt.minute\n",
    "# all_data.head() \n"
   ]
  },
  {
   "cell_type": "code",
   "execution_count": 125,
   "metadata": {},
   "outputs": [],
   "source": [
    "all_data['Count'] = 1\n",
    "\n",
    "hour = [hour for hour, df in all_data.groupby('Hour')]\n",
    "\n",
    "plt.plot(hour, all_data.groupby(['Hour']).count())\n",
    "plt.xticks(hour)\n",
    "plt.xlabel('Hours')\n",
    "plt.ylabel('No of orders')\n",
    "plt.grid()\n",
    "plt.show()\n",
    "\n",
    "# all_data.groupby(['Hour']).count()"
   ]
  },
  {
   "cell_type": "markdown",
   "metadata": {},
   "source": [
    "WHAT ORDER AREA MOST SOLD TOGETHER"
   ]
  },
  {
   "cell_type": "code",
   "execution_count": 152,
   "metadata": {},
   "outputs": [
    {
     "name": "stdout",
     "output_type": "stream",
     "text": [
      "\f",
      "\n"
     ]
    }
   ],
   "source": [
    "# df = all_data[all_data['Order ID'].duplicated(keep=False)]\n",
    "\n",
    "# x = all_data['Order ID'].duplicated(keep=False) # it ll provided you in boolean only \n",
    "\n",
    "# all_data[x] # it ll provide whole data frame with provided condition\n",
    " \n",
    "\n",
    "\n",
    "# all_data['Order ID'].duplicated() # keep = \"last\" is a default format \n",
    "# x=all_data['Order ID'].duplicated(keep = \"first\") # it ll give you true first duplicate file and false rest over\n"
   ]
  },
  {
   "cell_type": "code",
   "execution_count": 166,
   "metadata": {},
   "outputs": [
    {
     "name": "stderr",
     "output_type": "stream",
     "text": [
      "<ipython-input-166-14f06af036b0>:3: SettingWithCopyWarning: \n",
      "A value is trying to be set on a copy of a slice from a DataFrame.\n",
      "Try using .loc[row_indexer,col_indexer] = value instead\n",
      "\n",
      "See the caveats in the documentation: https://pandas.pydata.org/pandas-docs/stable/user_guide/indexing.html#returning-a-view-versus-a-copy\n",
      "  df['Grouped'] = df.groupby('Order ID')['Product'].transform(lambda x:','.join(x))\n"
     ]
    }
   ],
   "source": [
    "df = all_data[all_data['Order ID'].duplicated(keep=False)] \n",
    "\n",
    "df['Grouped'] = df.groupby('Order ID')['Product'].transform(lambda x:','.join(x))\n",
    "\n",
    "df = df[['Order ID','Grouped']].drop_duplicates() # grouping out duplicated \n",
    "\n"
   ]
  },
  {
   "cell_type": "code",
   "execution_count": 169,
   "metadata": {},
   "outputs": [],
   "source": [
    "#lets count the pair which appear most frequently we have to use library itertools\n",
    "# https://stackoverflow.com/questions/52195887/counting-unique-pairs-of-numbers-into-a-python-dictionary\n",
    "\n",
    "from itertools import combinations\n",
    "from collections import Counter"
   ]
  },
  {
   "cell_type": "code",
   "execution_count": 173,
   "metadata": {},
   "outputs": [],
   "source": [
    "count = Counter()\n",
    "for row in df['Grouped']:\n",
    "    row_list = row.split(',')\n",
    "    count.update(Counter(combinations(row_list,2)))\n",
    "    \n",
    "# print(count)"
   ]
  },
  {
   "cell_type": "code",
   "execution_count": null,
   "metadata": {},
   "outputs": [],
   "source": []
  },
  {
   "cell_type": "code",
   "execution_count": null,
   "metadata": {},
   "outputs": [],
   "source": []
  },
  {
   "cell_type": "code",
   "execution_count": null,
   "metadata": {},
   "outputs": [],
   "source": []
  },
  {
   "cell_type": "code",
   "execution_count": null,
   "metadata": {},
   "outputs": [],
   "source": []
  },
  {
   "cell_type": "code",
   "execution_count": null,
   "metadata": {},
   "outputs": [],
   "source": []
  }
 ],
 "metadata": {
  "kernelspec": {
   "display_name": "Python 3",
   "language": "python",
   "name": "python3"
  },
  "language_info": {
   "codemirror_mode": {
    "name": "ipython",
    "version": 3
   },
   "file_extension": ".py",
   "mimetype": "text/x-python",
   "name": "python",
   "nbconvert_exporter": "python",
   "pygments_lexer": "ipython3",
   "version": "3.8.3"
  }
 },
 "nbformat": 4,
 "nbformat_minor": 4
}
